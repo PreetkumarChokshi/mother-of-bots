{
 "cells": [
  {
   "cell_type": "markdown",
   "metadata": {},
   "source": [
    "### List Models\n",
    "This notebook is for loading a client and then fetching the list of available models on the remote server, or your\n",
    "local ollama server, depending on your setup.\n",
    "\n",
    "_If running on the FAU HPC, I highly recommend sticking to smaller <8B parameter models_"
   ]
  },
  {
   "cell_type": "code",
   "execution_count": 5,
   "metadata": {},
   "outputs": [
    {
     "ename": "KeyError",
     "evalue": "'ollama'",
     "output_type": "error",
     "traceback": [
      "\u001b[1;31m---------------------------------------------------------------------------\u001b[0m",
      "\u001b[1;31mKeyError\u001b[0m                                  Traceback (most recent call last)",
      "Cell \u001b[1;32mIn[5], line 5\u001b[0m\n\u001b[0;32m      1\u001b[0m \u001b[38;5;66;03m## LIST AVAILABLE MODELS\u001b[39;00m\n\u001b[0;32m      3\u001b[0m \u001b[38;5;28;01mfrom\u001b[39;00m \u001b[38;5;21;01mclients\u001b[39;00m \u001b[38;5;28;01mimport\u001b[39;00m bootstrap_client_and_model\n\u001b[1;32m----> 5\u001b[0m client , _ \u001b[38;5;241m=\u001b[39m \u001b[43mbootstrap_client_and_model\u001b[49m\u001b[43m(\u001b[49m\u001b[43m)\u001b[49m\n\u001b[0;32m      7\u001b[0m models \u001b[38;5;241m=\u001b[39m client\u001b[38;5;241m.\u001b[39mget_models()\n\u001b[0;32m     10\u001b[0m \u001b[38;5;28mprint\u001b[39m(\u001b[38;5;124m\"\u001b[39m\u001b[38;5;124mAvailable Models:\u001b[39m\u001b[38;5;124m\"\u001b[39m)\n",
      "File \u001b[1;32mc:\\Users\\preet\\prompt-eng\\prompt-eng\\clients.py:290\u001b[0m, in \u001b[0;36mbootstrap_client_and_model\u001b[1;34m(preferred_model, prompt)\u001b[0m\n\u001b[0;32m    288\u001b[0m config \u001b[38;5;241m=\u001b[39m config_factory()\n\u001b[0;32m    289\u001b[0m client \u001b[38;5;241m=\u001b[39m ChatbotClientFactory\u001b[38;5;241m.\u001b[39mcreate_client(config)\n\u001b[1;32m--> 290\u001b[0m models \u001b[38;5;241m=\u001b[39m \u001b[43mclient\u001b[49m\u001b[38;5;241;43m.\u001b[39;49m\u001b[43mget_models\u001b[49m\u001b[43m(\u001b[49m\u001b[43m)\u001b[49m\n\u001b[0;32m    292\u001b[0m \u001b[38;5;28;01mif\u001b[39;00m preferred_model:\n\u001b[0;32m    293\u001b[0m     \u001b[38;5;66;03m# If preferred model is specified, try to use it\u001b[39;00m\n\u001b[0;32m    294\u001b[0m     picked_model \u001b[38;5;241m=\u001b[39m \u001b[38;5;28mnext\u001b[39m((model \u001b[38;5;28;01mfor\u001b[39;00m model \u001b[38;5;129;01min\u001b[39;00m models \u001b[38;5;28;01mif\u001b[39;00m model\u001b[38;5;241m.\u001b[39mname \u001b[38;5;241m==\u001b[39m preferred_model), \u001b[38;5;28;01mNone\u001b[39;00m)\n",
      "File \u001b[1;32mc:\\Users\\preet\\prompt-eng\\prompt-eng\\clients.py:126\u001b[0m, in \u001b[0;36mOpenWebUIClient.get_models\u001b[1;34m(self)\u001b[0m\n\u001b[0;32m    122\u001b[0m models \u001b[38;5;241m=\u001b[39m []\n\u001b[0;32m    123\u001b[0m \u001b[38;5;28;01mfor\u001b[39;00m model_info \u001b[38;5;129;01min\u001b[39;00m data[\u001b[38;5;124m\"\u001b[39m\u001b[38;5;124mdata\u001b[39m\u001b[38;5;124m\"\u001b[39m]:\n\u001b[0;32m    124\u001b[0m     model \u001b[38;5;241m=\u001b[39m AIModel(\n\u001b[0;32m    125\u001b[0m         name\u001b[38;5;241m=\u001b[39mmodel_info[\u001b[38;5;124m\"\u001b[39m\u001b[38;5;124mname\u001b[39m\u001b[38;5;124m\"\u001b[39m],\n\u001b[1;32m--> 126\u001b[0m         parameter_size\u001b[38;5;241m=\u001b[39m\u001b[43mmodel_info\u001b[49m\u001b[43m[\u001b[49m\u001b[38;5;124;43m\"\u001b[39;49m\u001b[38;5;124;43mollama\u001b[39;49m\u001b[38;5;124;43m\"\u001b[39;49m\u001b[43m]\u001b[49m[\u001b[38;5;124m\"\u001b[39m\u001b[38;5;124mdetails\u001b[39m\u001b[38;5;124m\"\u001b[39m][\u001b[38;5;124m\"\u001b[39m\u001b[38;5;124mparameter_size\u001b[39m\u001b[38;5;124m\"\u001b[39m],\n\u001b[0;32m    127\u001b[0m     )\n\u001b[0;32m    128\u001b[0m     models\u001b[38;5;241m.\u001b[39mappend(model)\n\u001b[0;32m    129\u001b[0m \u001b[38;5;28;01mreturn\u001b[39;00m models\n",
      "\u001b[1;31mKeyError\u001b[0m: 'ollama'"
     ]
    }
   ],
   "source": [
    "## LIST AVAILABLE MODELS\n",
    "\n",
    "from clients import bootstrap_client_and_model\n",
    "\n",
    "client , _ = bootstrap_client_and_model()\n",
    "\n",
    "models = client.get_models()\n",
    "\n",
    "\n",
    "print(\"Available Models:\")\n",
    "for model in models:\n",
    "    print(f\"model_name: {model.name}, model_parameters: {model.parameter_size}\")"
   ]
  },
  {
   "cell_type": "code",
   "execution_count": null,
   "metadata": {},
   "outputs": [],
   "source": []
  }
 ],
 "metadata": {
  "kernelspec": {
   "display_name": "Python 3",
   "language": "python",
   "name": "python3"
  },
  "language_info": {
   "codemirror_mode": {
    "name": "ipython",
    "version": 3
   },
   "file_extension": ".py",
   "mimetype": "text/x-python",
   "name": "python",
   "nbconvert_exporter": "python",
   "pygments_lexer": "ipython3",
   "version": "3.12.2"
  }
 },
 "nbformat": 4,
 "nbformat_minor": 2
}
